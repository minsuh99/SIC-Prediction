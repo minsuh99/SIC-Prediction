## 미안여 이거 뭐 쓸 줄을 모르겠네
# 그냥 막 인터넷 페이지에다가 쓰고 있슴다



# 아래 두 개는 각 변수들 형식 y랑 맞춘 것(각도 돌리고, 해상도 맞추고, 위경도 맞춤)

import os
import numpy as np
import xarray as xr
from scipy.interpolate import griddata
import cartopy.crs as ccrs

# 1. 대상 변수 설정
target_variables = [
    {"shortName": "u10", "typeOfLevel": "surface"},
    {"shortName": "v10", "typeOfLevel": "surface"},
    {"shortName": "t2m", "typeOfLevel": "surface"},
    {"shortName": "asn", "typeOfLevel": "surface"},
    {"shortName": "msl", "typeOfLevel": "surface"},
    {"shortName": "sf", "typeOfLevel": "surface"},
    {"shortName": "sshf", "typeOfLevel": "surface"},
    {"shortName": "sst", "typeOfLevel": "surface"},
    {"shortName": "tcc", "typeOfLevel": "surface"},
    {"shortName": "tcwv", "typeOfLevel": "surface"},
    {"shortName": "tp", "typeOfLevel": "surface"},
]

# 2. 경로 및 출력 디렉토리
grib_path = "feaure_final.grib"
out_dir = "npy_output_final_final"
os.makedirs(out_dir, exist_ok=True)

# 3. 격자 정의 (25km 픽셀, 중심은 북극)
dx = dy = 25000
x = np.linspace(-150 * dx, 150 * dx, 300)
y = np.linspace(-214 * dy, 214 * dy, 428)
xv, yv = np.meshgrid(x, y)
grid_points = (xv, yv)

# 4. 투영 설정
proj = ccrs.NorthPolarStereo()
pc = ccrs.PlateCarree()

# 5. 각 변수 반복 처리
for var_filter in target_variables:
    try:
        ds = xr.open_dataset(grib_path, engine="cfgrib", filter_by_keys=var_filter)
        var_name = var_filter["shortName"]

        # 위경도 → 투영 좌표
        lons = ds['longitude'].values
        lats = ds['latitude'].values
        lon2d, lat2d = np.meshgrid(lons, lats)
        points_proj = proj.transform_points(pc, lon2d, lat2d)
        x_src = points_proj[..., 0]
        y_src = points_proj[..., 1]

        # 3. 반시계 방향으로 45도 회전
        theta = np.radians(45)
        x_rot = x_src * np.cos(theta) - y_src * np.sin(theta)
        y_rot = x_src * np.sin(theta) + y_src * np.cos(theta)
        rotated_points = np.vstack((x_rot.flatten(), y_rot.flatten())).T

        for t in range(len(ds["time"])):
            data = ds[var_name].isel(time=t).values.flatten()

            # 보간 (회전된 좌표 기준)
            grid_z = griddata(rotated_points, data, grid_points, method="linear")

            # 저장
            time_str = str(ds["time"].values[t])[:10].replace(":", "-")
            filename = f"{var_name}_{time_str}.npy"
            np.save(os.path.join(out_dir, filename), grid_z)

            print(f"✅ 저장 완료: {filename}")

    except Exception as e:
        print(f"❌ 변수 {var_filter} 처리 중 오류 발생: {e}")

# 두 번째꺼.. 변수별로 달라서 세 개는 따로 돌림

import os
import numpy as np
import xarray as xr
from scipy.interpolate import griddata
import cartopy.crs as ccrs

# 1. 파일 열기
ds = xr.open_dataset("feature_final_2.grib", engine="cfgrib")

# 2. 위경도 → 투영 변환
lons = ds.longitude.values
lats = ds.latitude.values
lon2d, lat2d = np.meshgrid(lons, lats)

proj = ccrs.NorthPolarStereo()
pc = ccrs.PlateCarree()
points_proj = proj.transform_points(pc, lon2d, lat2d)
x_src = points_proj[..., 0]
y_src = points_proj[..., 1]

# 3. 좌표 회전 (반시계 방향 45도)
theta = np.radians(45)
x_rot = x_src * np.cos(theta) - y_src * np.sin(theta)
y_rot = x_src * np.sin(theta) + y_src * np.cos(theta)
rotated_points = np.vstack((x_rot.flatten(), y_rot.flatten())).T

# 4. 목적 격자 정의 (25km 정사각형 격자, 북극 중심)
dx = dy = 25_000
x = np.linspace(-150 * dx, 150 * dx, 300)
y = np.linspace(-214 * dy, 214 * dy, 428)
xv, yv = np.meshgrid(x, y)
grid_points = (xv, yv)

# 5. 저장 경로 설정
out_dir = "npy_output_final_2222"
os.makedirs(out_dir, exist_ok=True)

# 6. 저장할 변수 목록
target_vars = ["u10", "v10", "t2m"]

# 7. 변수별 저장
for var_name in target_vars:
    if var_name not in ds:
        print(f"⚠️ 변수 {var_name}는 데이터셋에 존재하지 않습니다.")
        continue

    var = ds[var_name]
    print(f"📦 처리 중: {var_name}")

    if "time" in var.dims:
        for t_idx in range(var.sizes["time"]):
            try:
                values = var.isel(time=t_idx).values.flatten()

                # 보간 수행 (회전된 좌표 기준)
                grid_z = griddata(rotated_points, values, grid_points, method="linear")

                time_val = str(ds["time"].values[t_idx])[:10].replace(":", "-")
                filename = f"{var_name}_{time_val}.npy"
                np.save(os.path.join(out_dir, filename), grid_z)
                print(f"✅ 저장 완료: {filename}")
            except Exception as e:
                print(f"❌ 오류: {var_name} 시간 {t_idx} → {e}")
    else:
        try:
            values = var.values.flatten()
            grid_z = griddata(rotated_points, values, grid_points, method="linear")
            filename = f"{var_name}_static.npy"
            np.save(os.path.join(out_dir, filename), grid_z)
            print(f"✅ 저장 완료: {filename}")
        except Exception as e:
            print(f"❌ 오류: {var_name} → {e}")

# npz 파일로 합치기

import os
import numpy as np
import matplotlib.pyplot as plt
from collections import defaultdict

# 폴더 경로와 저장 위치
npy_dir = "./npy_feature_final"
output_npz = "feature_final444.npz"

# 모든 npy 파일 목록 불러오기
all_files = sorted([f for f in os.listdir(npy_dir) if f.endswith(".npy")])

# feature별로 그룹화
feature_dict = defaultdict(list)
for fname in all_files:
    feature, date = fname.replace(".npy", "").split("_")
    feature_dict[feature].append((date, fname))

# feature 이름 정렬
features = sorted(feature_dict.keys())
num_features = len(features)
num_timesteps = 360

# 기준 shape 확보
sample_array = np.load(os.path.join(npy_dir, all_files[0]))
y_size, x_size = sample_array.shape

# 결과 배열 초기화
merged = np.zeros((num_timesteps, num_features, y_size, x_size), dtype=np.float32)

# feature 순서대로 반복
for f_idx, feature in enumerate(features):
    # 날짜순 정렬
    sorted_files = sorted(feature_dict[feature])[:360]
    
    for t_idx, (date, fname) in enumerate(sorted_files):
        array = np.load(os.path.join(npy_dir, fname))
        merged[t_idx, f_idx] = array  # (y, x) 형태로 들어가 있음

# 저장
np.savez(output_npz, data=merged, features=features)
print(f"✅ Saved: {output_npz}")


# npy 파일 하나만 시각화

import numpy as np
import matplotlib.pyplot as plt
import os

# 1. 시각화할 파일 선택 (예: asn_1995-01-01.npy)
npy_path = os.path.join("npy_output_final_final", "asn_1995-01-01.npy")

# 2. 파일 불러오기
data = np.load(npy_path)

# 3. 픽셀 해상도 (25km)
dx = dy = 25000  # meters
x = np.linspace(-150 * dx, 150 * dx, 300) / 1000  # km
y = np.linspace(-214 * dy, 214 * dy, 428) / 1000  # km

# 4. 시각화
plt.figure(figsize=(8, 6))
plt.imshow(data, extent=[x[0], x[-1], y[0], y[-1]], origin='lower', cmap='viridis')
plt.colorbar(label='Value')
plt.title("asn_1995-01-01")
plt.xlabel("X (km)")
plt.ylabel("Y (km)")
plt.grid(True)
plt.tight_layout()
plt.show()


# 최종 npz 파일 시각화

import os
import numpy as np
import matplotlib.pyplot as plt

output_npz = "feature_final444.npz"

npz = np.load(output_npz)
npz_data = npz["data"]  # shape: (time, feature, y, x)

asn_from_npz = npz_data[0, 10]

plt.figure(figsize=(8, 6))
plt.imshow(asn_from_npz, origin="lower", extent=[x[0], x[-1], y[0], y[-1]])
plt.title("asn from feature.npz (time=0, feature=0) (with extent)")
plt.xlabel("X (km)")
plt.ylabel("Y (km)")
plt.colorbar()
plt.grid(True)
plt.show()
