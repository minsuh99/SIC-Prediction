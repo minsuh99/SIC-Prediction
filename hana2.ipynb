{
 "cells": [
  {
   "cell_type": "code",
   "execution_count": null,
   "id": "792e1034",
   "metadata": {},
   "outputs": [],
   "source": [
    "# Hi!"
   ]
  }
 ],
 "metadata": {
  "language_info": {
   "name": "python"
  }
 },
 "nbformat": 4,
 "nbformat_minor": 5
}
